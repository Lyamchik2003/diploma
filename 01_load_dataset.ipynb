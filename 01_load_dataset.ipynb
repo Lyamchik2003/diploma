{
 "cells": [
  {
   "cell_type": "code",
   "execution_count": 1,
   "metadata": {},
   "outputs": [],
   "source": [
    "import os\n",
    "import sys\n",
    "sys.path.insert(1, os.path.realpath(os.path.pardir))\n",
    "\n",
    "\n",
    "from utils.augmentations import get_default_transform\n",
    "from utils import creating_dataset\n"
   ]
  },
  {
   "cell_type": "markdown",
   "metadata": {},
   "source": [
    "# Dataset loading & inspection\n",
    "This notebook shows how to load the datasets used in this challenge and provides some basic statistics about them.\n",
    "\n",
    "Note that the data includes EMG signal from 8 electrodes in the EMG armband, the predicted variables are the angle of 20 joints in the hand. Inputs are sampled at 200Hz, but the  outputs are intended to be at a subsampled rate of 25Hz (more on that in other notebooks).\n",
    "\n",
    "Data was acquired in \"healthy\" and \"amputant\" subjects (i.e. with limb loss) using the EMG armband in either the left or right arm. \n",
    "Your model's predictions will be evaluated on data from one of the two amputant subjects (fedya), but you can use any and all provided data for training your model. For simplicity, the data has been divided in `training` and `test` subsets (not all subjects have `test` data) to evaluate your model's performance during training. The final submission data is held separate and only used when preparing the submission.csv file (see 04_submit_predictions.ipynb).\n",
    "\n",
    "### Load data\n",
    "Start by defining a variable to keep track of where the data is saved on your computer and a set of parameters for selecting which data to load. "
   ]
  },
  {
   "cell_type": "code",
   "execution_count": 2,
   "metadata": {},
   "outputs": [],
   "source": [
    "DATA_PATH = r\"C:\\Users\\aliam\\OneDrive\\Desktop\\Диплом\\dataset\\dataset_v2_blocks\\dataset_v2_blocks\""
   ]
  },
  {
   "cell_type": "markdown",
   "metadata": {},
   "source": [
    "You can decide which data to load (e.g. from both `health` and `amputant` subjects). \n",
    "The `test_dataset_list` specifies which subset of the data should be used as test set, and it shouldn't change. You can, however, play around with training your model on different subsets of the available training data. \n",
    "\n",
    "You can also define a set of `transform` functions to apply to the data before feeding it to the model, or load the default ones."
   ]
  },
  {
   "cell_type": "code",
   "execution_count": 7,
   "metadata": {},
   "outputs": [
    {
     "name": "stdout",
     "output_type": "stream",
     "text": [
      "Getting val datasets\n",
      "Number of moves: 72 | Dataset: fedya_tropin_standart_elbow_left\n",
      "Reorder this dataset fedya_tropin_standart_elbow_left True\n",
      "Getting train datasets\n",
      "Number of moves: 72 | Dataset: fedya_tropin_standart_elbow_left\n",
      "Reorder this dataset fedya_tropin_standart_elbow_left True\n",
      "Number of moves: 70 | Dataset: valery_first_standart_elbow_left\n",
      "Reorder this dataset valery_first_standart_elbow_left True\n",
      "Number of moves: 135 | Dataset: alex_kovalev_standart_elbow_left\n",
      "Reorder this dataset alex_kovalev_standart_elbow_left True\n",
      "Number of moves: 72 | Dataset: anna_makarova_standart_elbow_left\n",
      "Reorder this dataset anna_makarova_standart_elbow_left True\n",
      "Number of moves: 62 | Dataset: artem_snailbox_standart_elbow_left\n",
      "Reorder this dataset artem_snailbox_standart_elbow_left True\n",
      "Number of moves: 144 | Dataset: matthew_antonov_standart_elbow_left\n",
      "Reorder this dataset matthew_antonov_standart_elbow_left True\n",
      "Number of moves: 144 | Dataset: misha_korobok_standart_elbow_left\n",
      "Reorder this dataset misha_korobok_standart_elbow_left True\n",
      "Number of moves: 71 | Dataset: nikita_snailbox_standart_elbow_left\n",
      "Reorder this dataset nikita_snailbox_standart_elbow_left True\n",
      "Number of moves: 144 | Dataset: petya_chizhov_standart_elbow_left\n",
      "Reorder this dataset petya_chizhov_standart_elbow_left True\n",
      "Number of moves: 12 | Dataset: polina_maksimova_standart_elbow_left\n",
      "Reorder this dataset polina_maksimova_standart_elbow_left True\n",
      "Number of moves: 144 | Dataset: sema_duplin_standart_elbow_left\n",
      "Reorder this dataset sema_duplin_standart_elbow_left True\n",
      "Number of moves: 136 | Dataset: alex_kovalev_standart_elbow_right\n",
      "Number of moves: 69 | Dataset: andrew_snailbox_standart_elbow_right\n",
      "Number of moves: 132 | Dataset: anna_makarova_standart_elbow_right\n",
      "Number of moves: 67 | Dataset: artem_snailbox_standart_elbow_right\n",
      "Number of moves: 68 | Dataset: matthew_antonov_standart_elbow_right\n",
      "Number of moves: 72 | Dataset: matvey_gorbenko_standart_elbow_right\n",
      "Number of moves: 144 | Dataset: misha_korobok_standart_elbow_right\n",
      "Number of moves: 55 | Dataset: nikita_snailbox_standart_elbow_right\n",
      "Number of moves: 142 | Dataset: petya_chizhov_standart_elbow_right\n",
      "Number of moves: 54 | Dataset: polina_maksimova_standart_elbow_right\n",
      "Number of moves: 139 | Dataset: sema_duplin_standart_elbow_right\n",
      "Number of trainining sessions: 22\n",
      "Number of validation sessions: 1\n",
      "Size of the input (8, 256) || Size of the output (20, 32)\n"
     ]
    }
   ],
   "source": [
    "data_paths = dict(\n",
    "    datasets=[DATA_PATH],\n",
    "    hand_type = ['left', 'right'], # [left, 'right']\n",
    "    human_type = ['health', 'amputant'], # [amputant, 'health']\n",
    "    test_dataset_list = ['fedya_tropin_standart_elbow_left']  # don't change this !\n",
    ")\n",
    "\n",
    "# define a config object to keep track of data variables\n",
    "data_config = creating_dataset.DataConfig(**data_paths)\n",
    "\n",
    "# get transforms\n",
    "p_transform = 0.1  # probability of applying the transform\n",
    "transform = get_default_transform(p_transform)\n",
    "\n",
    "# load the data\n",
    "train_dataset, test_dataset = creating_dataset.get_datasets(data_config, transform=transform)\n"
   ]
  },
  {
   "cell_type": "markdown",
   "metadata": {},
   "source": [
    "### Inspect the data\n",
    "\n",
    "`train_dataset` and `test_dataset` are instances of the `torch.utils.data.ConcatDataset` class. \n",
    "\n",
    "\n",
    "The following code shows the number of batches in each set as well as the size of input and outputs. \n",
    "Note that inputs are of shape `n_channels x batch_size` while the outputs are of shape `n_angles x downsampled_batchs_size` where `downsampled_batch_size = batch_size / 200 * 25` to account for downsampling of predictions. "
   ]
  },
  {
   "cell_type": "code",
   "execution_count": 9,
   "metadata": {},
   "outputs": [
    {
     "name": "stdout",
     "output_type": "stream",
     "text": [
      "Train dataset size: 99990, Test dataset size: 792\n",
      "X shape: (8, 256), Y shape: (20, 32)\n"
     ]
    }
   ],
   "source": [
    "print(f\"Train dataset size: {len(train_dataset)}, Test dataset size: {len(test_dataset)}\")\n",
    "\n",
    "X, Y = train_dataset[0]\n",
    "print(f\"X shape: {X.shape}, Y shape: {Y.shape}\")"
   ]
  },
  {
   "cell_type": "markdown",
   "metadata": {},
   "source": [
    "You can also generate a video of the hand movements."
   ]
  },
  {
   "cell_type": "code",
   "execution_count": 32,
   "metadata": {},
   "outputs": [
    {
     "name": "stdout",
     "output_type": "stream",
     "text": [
      "8\n"
     ]
    }
   ],
   "source": [
    "from utils.hand_visualize import Hand, save_animation\n",
    "from utils.quats_and_angles import get_quats\n",
    "import numpy as np\n",
    "\n",
    "\n",
    "batches = [train_dataset[i] for i in range(200, 300)]\n",
    "Y = np.concatenate([b[1] for b in batches], axis=1)\n",
    "quats = get_quats(Y)\n",
    "\n",
    "hand_gt = Hand(quats)\n",
    "ani = hand_gt.visualize_all_frames()\n",
    "save_animation(ani, 'test_vis_1.gif', fps=2,)   # this will save a .gif file"
   ]
  },
  {
   "cell_type": "code",
   "execution_count": 29,
   "metadata": {},
   "outputs": [
    {
     "data": {
      "text/plain": [
       "20"
      ]
     },
     "execution_count": 29,
     "metadata": {},
     "output_type": "execute_result"
    }
   ],
   "source": [
    "len(train_dataset[0][1])"
   ]
  },
  {
   "cell_type": "code",
   "execution_count": 34,
   "metadata": {},
   "outputs": [
    {
     "data": {
      "text/plain": [
       "(array([[-0.00392157, -0.00392157,  0.00392157, ...,  0.14509805,\n",
       "         -0.40392157,  0.15294118],\n",
       "        [-0.00392157, -0.01176471,  0.01176471, ...,  0.01176471,\n",
       "         -0.23137255,  0.05882353],\n",
       "        [-0.00392157, -0.01960784,  0.01960784, ..., -0.05098039,\n",
       "         -0.23137255,  0.07450981],\n",
       "        ...,\n",
       "        [-0.04313726,  0.03529412, -0.10588235, ..., -0.27058825,\n",
       "          0.45882353, -0.12156863],\n",
       "        [ 0.06666667,  0.33333334, -0.34901962, ..., -0.19215687,\n",
       "          0.18431373,  0.15294118],\n",
       "        [ 0.01176471, -0.01960784, -0.01960784, ...,  0.09019608,\n",
       "         -0.12941177,  0.16862746]], dtype=float32),\n",
       " array([[-0.18054327, -0.18832503, -0.19694604, -0.20159185, -0.19922338,\n",
       "         -0.18305382, -0.13828765, -0.10692853, -0.0780877 , -0.04777453,\n",
       "         -0.00422819,  0.01540427,  0.02347825,  0.02579666,  0.02877974,\n",
       "          0.03233165,  0.03461837,  0.03293514,  0.03272608,  0.02934706,\n",
       "          0.02462094,  0.02037224,  0.00850952,  0.00190852, -0.00565278,\n",
       "         -0.01012212, -0.01138357, -0.01570436, -0.01741867, -0.01912324,\n",
       "         -0.02601842, -0.02351093],\n",
       "        [-0.05773398, -0.06327465, -0.06634427, -0.06831918, -0.0685415 ,\n",
       "         -0.06672157, -0.06002328, -0.04933507, -0.04407201, -0.03941768,\n",
       "         -0.03267487, -0.03021209, -0.03230561, -0.03615102, -0.03926665,\n",
       "         -0.04129314, -0.04219484, -0.04213772, -0.04285912, -0.04225909,\n",
       "         -0.04165622, -0.04140532, -0.04086105, -0.04037952, -0.03841209,\n",
       "         -0.0353697 , -0.03364887, -0.03180234, -0.02975823, -0.0291664 ,\n",
       "         -0.02958075, -0.03023629],\n",
       "        [ 0.5378768 ,  0.5356739 ,  0.53184336,  0.5318923 ,  0.53154904,\n",
       "          0.53390294,  0.53771085,  0.543478  ,  0.54360133,  0.5377423 ,\n",
       "          0.52934444,  0.523411  ,  0.5180483 ,  0.51548934,  0.51314026,\n",
       "          0.50927955,  0.50504696,  0.50413144,  0.50408894,  0.5039756 ,\n",
       "          0.5046007 ,  0.5057515 ,  0.5111646 ,  0.5126289 ,  0.5159808 ,\n",
       "          0.5157385 ,  0.514722  ,  0.5170237 ,  0.5172429 ,  0.5186974 ,\n",
       "          0.5219138 ,  0.52119595],\n",
       "        [ 0.16868791,  0.16653746,  0.16542608,  0.16575877,  0.16608733,\n",
       "          0.17070982,  0.17689091,  0.17670798,  0.17753632,  0.1789046 ,\n",
       "          0.17909995,  0.17758223,  0.1743361 ,  0.17092523,  0.16931428,\n",
       "          0.16855882,  0.16818853,  0.16797544,  0.16763288,  0.16847503,\n",
       "          0.16743219,  0.1671439 ,  0.16766824,  0.16659504,  0.16642019,\n",
       "          0.16777517,  0.16679235,  0.16634636,  0.16721037,  0.16793713,\n",
       "          0.16819695,  0.16955785],\n",
       "        [-0.31571862, -0.32795888, -0.33744374, -0.34477404, -0.34257966,\n",
       "         -0.3223833 , -0.21329135, -0.08769111, -0.0046265 ,  0.05330922,\n",
       "          0.10014597,  0.11674787,  0.12679933,  0.12912075,  0.12939404,\n",
       "          0.1257202 ,  0.12294928,  0.11730102,  0.11449814,  0.11414451,\n",
       "          0.10801019,  0.1020721 ,  0.09521669,  0.08976007,  0.08185125,\n",
       "          0.0772236 ,  0.07168899,  0.06420926,  0.05904994,  0.05365273,\n",
       "          0.04265115,  0.03900019],\n",
       "        [ 0.02931761,  0.02780009,  0.02658763,  0.02589337,  0.02570126,\n",
       "          0.0256581 ,  0.03033431,  0.03673745,  0.04299658,  0.04731756,\n",
       "          0.04865709,  0.04785368,  0.04563931,  0.04228522,  0.03940593,\n",
       "          0.0367516 ,  0.03519134,  0.03410652,  0.03363547,  0.03266618,\n",
       "          0.03225211,  0.03285193,  0.03228868,  0.03441697,  0.0368641 ,\n",
       "          0.03859454,  0.0395181 ,  0.04045112,  0.04151113,  0.04140145,\n",
       "          0.0409156 ,  0.0410034 ],\n",
       "        [ 0.8399613 ,  0.8436798 ,  0.8386942 ,  0.8396174 ,  0.83579445,\n",
       "          0.8224672 ,  0.71241647,  0.5958981 ,  0.528891  ,  0.47424075,\n",
       "          0.43514597,  0.40798277,  0.3881716 ,  0.38146514,  0.37289947,\n",
       "          0.36286804,  0.35237244,  0.34494275,  0.34017518,  0.33149654,\n",
       "          0.32639408,  0.3249841 ,  0.32656997,  0.32469663,  0.32639557,\n",
       "          0.32501248,  0.32244354,  0.32159323,  0.3204592 ,  0.32082015,\n",
       "          0.32516104,  0.32242656],\n",
       "        [ 0.33664075,  0.3367538 ,  0.3346764 ,  0.3334118 ,  0.3306792 ,\n",
       "          0.3215534 ,  0.25878158,  0.18217999,  0.13492069,  0.09986831,\n",
       "          0.07702082,  0.06139383,  0.04788368,  0.038795  ,  0.0306777 ,\n",
       "          0.02276714,  0.01666718,  0.01135582,  0.00727781,  0.00396458,\n",
       "          0.00161729,  0.00114978, -0.00112019, -0.00115399,  0.0011052 ,\n",
       "          0.00134353,  0.00114987, -0.00153652, -0.00220143, -0.00330525,\n",
       "         -0.00487457, -0.00839371],\n",
       "        [ 0.04647362,  0.04235376,  0.03927428,  0.03121593,  0.02893472,\n",
       "          0.0272093 ,  0.0419233 ,  0.01661617, -0.00938045, -0.01936654,\n",
       "         -0.01923115, -0.03405965, -0.05577067, -0.07373676, -0.08321428,\n",
       "         -0.09288929, -0.09681603, -0.1015057 , -0.10192648, -0.09375046,\n",
       "         -0.09326644, -0.09515393, -0.09761308, -0.09671211, -0.09488007,\n",
       "         -0.0828765 , -0.0814632 , -0.08821662, -0.09836552, -0.12075294,\n",
       "         -0.15089256, -0.18721542],\n",
       "        [ 0.01964395,  0.01911714,  0.01681617,  0.01691574,  0.01657847,\n",
       "          0.01691441,  0.02411463,  0.03162104,  0.03455963,  0.03451243,\n",
       "          0.0328446 ,  0.029369  ,  0.02656334,  0.0245207 ,  0.02277227,\n",
       "          0.02042401,  0.01811062,  0.01626243,  0.01524897,  0.013424  ,\n",
       "          0.0116158 ,  0.01096044,  0.01015119,  0.01092082,  0.01167788,\n",
       "          0.01177796,  0.01213478,  0.01309401,  0.01347065,  0.01477366,\n",
       "          0.0165344 ,  0.01757641],\n",
       "        [ 0.7024699 ,  0.7036464 ,  0.7012506 ,  0.7071242 ,  0.7089133 ,\n",
       "          0.7157442 ,  0.7036875 ,  0.714437  ,  0.7145095 ,  0.715955  ,\n",
       "          0.71313137,  0.69991547,  0.6671155 ,  0.6356339 ,  0.6129548 ,\n",
       "          0.592939  ,  0.56635696,  0.5476807 ,  0.5307579 ,  0.51250577,\n",
       "          0.51191986,  0.5133724 ,  0.52131456,  0.51529115,  0.5109636 ,\n",
       "          0.5013385 ,  0.49926814,  0.5072569 ,  0.5231304 ,  0.55384535,\n",
       "          0.5892228 ,  0.6372591 ],\n",
       "        [ 0.40201703,  0.4009894 ,  0.39944753,  0.4013424 ,  0.40137705,\n",
       "          0.40269184,  0.39492035,  0.3999006 ,  0.39968708,  0.40270165,\n",
       "          0.40518162,  0.40072137,  0.38381797,  0.36443138,  0.35044125,\n",
       "          0.33841127,  0.32395664,  0.31273425,  0.30192816,  0.29287064,\n",
       "          0.29156497,  0.29102325,  0.29414213,  0.29103824,  0.287732  ,\n",
       "          0.28425366,  0.28346238,  0.28757688,  0.29721233,  0.31434917,\n",
       "          0.33123466,  0.3574406 ],\n",
       "        [ 0.5970488 ,  0.6057903 ,  0.6185361 ,  0.62125283,  0.62383556,\n",
       "          0.6113924 ,  0.49451905,  0.3109781 ,  0.15655483,  0.11378066,\n",
       "          0.09156126,  0.03404222, -0.05238759, -0.13397303, -0.1569193 ,\n",
       "         -0.16802202, -0.1692186 , -0.1666825 , -0.16361527, -0.13771369,\n",
       "         -0.12237234, -0.11914088, -0.11269742, -0.11413588, -0.1101209 ,\n",
       "         -0.0725848 , -0.05451207, -0.04785509, -0.0400143 , -0.0464319 ,\n",
       "         -0.06138378, -0.07233478],\n",
       "        [-0.03997459, -0.04442738, -0.05226276, -0.0546296 , -0.05661742,\n",
       "         -0.05358699, -0.03671173, -0.00518998,  0.01952759,  0.03400276,\n",
       "          0.04486985,  0.05218837,  0.05928383,  0.06428751,  0.06874447,\n",
       "          0.07063573,  0.07080544,  0.07007624,  0.06893486,  0.06501116,\n",
       "          0.06176086,  0.05950403,  0.0571259 ,  0.05743081,  0.05632682,\n",
       "          0.05349338,  0.05343884,  0.05367412,  0.0519851 ,  0.05464069,\n",
       "          0.0595072 ,  0.06419978],\n",
       "        [ 0.51046354,  0.50432986,  0.49870828,  0.49313164,  0.4904973 ,\n",
       "          0.49171254,  0.49657485,  0.48202956,  0.4665838 ,  0.44186085,\n",
       "          0.4159862 ,  0.399636  ,  0.38693136,  0.38749674,  0.37791207,\n",
       "          0.36417654,  0.3461078 ,  0.33002016,  0.3178019 ,  0.29589182,\n",
       "          0.28841907,  0.29027632,  0.29037896,  0.29704115,  0.30279347,\n",
       "          0.2921602 ,  0.28491777,  0.28403884,  0.28075764,  0.28049073,\n",
       "          0.28622264,  0.28546208],\n",
       "        [ 0.2596825 ,  0.25529236,  0.25012422,  0.24596736,  0.24379422,\n",
       "          0.2414067 ,  0.23996723,  0.22781779,  0.21510355,  0.20024288,\n",
       "          0.1898952 ,  0.18624559,  0.1848495 ,  0.18673879,  0.18169098,\n",
       "          0.1735658 ,  0.16311617,  0.15394288,  0.14619915,  0.13536371,\n",
       "          0.13073047,  0.13014504,  0.12978831,  0.1329791 ,  0.13466117,\n",
       "          0.12979838,  0.12667432,  0.1266056 ,  0.1249022 ,  0.1251537 ,\n",
       "          0.12747581,  0.12669301],\n",
       "        [-0.28791547, -0.28954092, -0.29228604, -0.29695138, -0.29889837,\n",
       "         -0.29893136, -0.2960309 , -0.29433692, -0.29941797, -0.30721188,\n",
       "         -0.3207341 , -0.32792875, -0.33755085, -0.34213066, -0.34751183,\n",
       "         -0.35200742, -0.35406643, -0.35352477, -0.34918237, -0.34133902,\n",
       "         -0.33022854, -0.32320836, -0.31888178, -0.31840906, -0.31422523,\n",
       "         -0.30971998, -0.30880672, -0.3108023 , -0.3141558 , -0.32067996,\n",
       "         -0.33317095, -0.34726924],\n",
       "        [ 0.36048284,  0.36473846,  0.3705229 ,  0.37532637,  0.3780578 ,\n",
       "          0.37996078,  0.38025683,  0.37420043,  0.370147  ,  0.36927393,\n",
       "          0.36320215,  0.35374403,  0.3435062 ,  0.33914685,  0.33735418,\n",
       "          0.3356763 ,  0.33625624,  0.33922818,  0.34535074,  0.3529942 ,\n",
       "          0.35108462,  0.34884948,  0.34316552,  0.33785513,  0.33247185,\n",
       "          0.33097267,  0.33073497,  0.33124638,  0.33634663,  0.3468657 ,\n",
       "          0.35690665,  0.3670623 ],\n",
       "        [ 0.4301398 ,  0.42629892,  0.4191796 ,  0.41579127,  0.41289818,\n",
       "          0.4112803 ,  0.4199951 ,  0.4435049 ,  0.46446466,  0.4821304 ,\n",
       "          0.5053776 ,  0.5190405 ,  0.53431195,  0.5398622 ,  0.5438116 ,\n",
       "          0.5473466 ,  0.5481558 ,  0.5444529 ,  0.5360263 ,  0.5257128 ,\n",
       "          0.5218171 ,  0.5211183 ,  0.5221057 ,  0.5284415 ,  0.5340306 ,\n",
       "          0.537322  ,  0.53627264,  0.5342538 ,  0.5282093 ,  0.5137938 ,\n",
       "          0.5007891 ,  0.48995227],\n",
       "        [ 0.12816414,  0.12628314,  0.12411767,  0.12261745,  0.12212693,\n",
       "          0.12249988,  0.12314142,  0.12404425,  0.12486488,  0.12670204,\n",
       "          0.13213363,  0.14060906,  0.15044479,  0.15483737,  0.16009687,\n",
       "          0.16484769,  0.16919534,  0.17192882,  0.17161462,  0.1724332 ,\n",
       "          0.17668813,  0.18149024,  0.18776436,  0.19200303,  0.19663414,\n",
       "          0.19846863,  0.19683921,  0.1921163 ,  0.18496272,  0.16996445,\n",
       "          0.15609138,  0.14495091]], dtype=float32))"
      ]
     },
     "execution_count": 34,
     "metadata": {},
     "output_type": "execute_result"
    }
   ],
   "source": [
    "batches[0]"
   ]
  },
  {
   "cell_type": "code",
   "execution_count": 15,
   "metadata": {},
   "outputs": [
    {
     "data": {
      "text/plain": [
       "8"
      ]
     },
     "execution_count": 15,
     "metadata": {},
     "output_type": "execute_result"
    }
   ],
   "source": [
    "len(train_dataset[1][0])"
   ]
  }
 ],
 "metadata": {
  "kernelspec": {
   "display_name": ".venv",
   "language": "python",
   "name": "python3"
  },
  "language_info": {
   "codemirror_mode": {
    "name": "ipython",
    "version": 3
   },
   "file_extension": ".py",
   "mimetype": "text/x-python",
   "name": "python",
   "nbconvert_exporter": "python",
   "pygments_lexer": "ipython3",
   "version": "3.9.13"
  }
 },
 "nbformat": 4,
 "nbformat_minor": 2
}
