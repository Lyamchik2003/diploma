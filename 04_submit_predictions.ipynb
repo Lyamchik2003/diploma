{
 "cells": [
  {
   "cell_type": "markdown",
   "metadata": {},
   "source": [
    "# Submit Predictions\n",
    "\n",
    "This notebook shows how to prepare a submission of your model's predictions on the test data for the computation."
   ]
  },
  {
   "cell_type": "code",
   "execution_count": 1,
   "metadata": {},
   "outputs": [],
   "source": [
    "import os\n",
    "import sys\n",
    "sys.path.insert(1, os.path.realpath(os.path.pardir))\n",
    "\n",
    "from pathlib import Path\n",
    "from natsort import natsorted\n",
    "import numpy as np\n",
    "from safetensors.torch import load_model\n",
    "import torch \n",
    "import pandas as pd\n",
    "\n",
    "from utils import hvatnet\n",
    "from utils.creating_dataset import LEFT_TO_RIGHT_HAND\n"
   ]
  },
  {
   "cell_type": "markdown",
   "metadata": {},
   "source": [
    "## Load pre-trained model\n",
    "\n",
    "This code loads the pre-trained baseline model - might be different for your model."
   ]
  },
  {
   "cell_type": "code",
   "execution_count": 7,
   "metadata": {},
   "outputs": [
    {
     "name": "stdout",
     "output_type": "stream",
     "text": [
      "Number of parameters: 3224676\n"
     ]
    }
   ],
   "source": [
    "device = 'cpu'\n",
    "dtype = torch.float32\n",
    "\n",
    "weights =  r\"C:\\Users\\nodos\\PycharmProjects\\amputants\\tutorials\\logs\\test_05_11_run_fedya\\step_4050_loss_0.2747.safetensors\"\n",
    "\n",
    "MODEL_TYPE = 'hvatnet'\n",
    "model_config = hvatnet.Config(n_electrodes=8, n_channels_out=20,\n",
    "                            n_res_blocks=5, n_blocks_per_layer=2,\n",
    "                            n_filters=128, kernel_size=3,\n",
    "                            strides=(2, 2, 2), dilation=3, \n",
    "                            small_strides = (1, 1))\n",
    "model = hvatnet.HVATNetv3(model_config)\n",
    "\n",
    "load_model(model, weights)\n",
    "\n",
    "model = model.to(device).to(dtype)"
   ]
  },
  {
   "cell_type": "code",
   "execution_count": null,
   "metadata": {},
   "outputs": [
    {
     "name": "stdout",
     "output_type": "stream",
     "text": [
      "Number of parameters: 4210788\n"
     ]
    }
   ],
   "source": [
    "device = 'cpu'\n",
    "dtype = torch.float32\n",
    "\n",
    "weights =  r\"C:\\Users\\nodos\\PycharmProjects\\amputants\\tutorials\\logs\\test_05_11_run_fedya\\step_2850_loss_0.2795.safetensors\"\n",
    "\n",
    "MODEL_TYPE = 'hvatnet'\n",
    "model_config = hvatnet.Config(n_electrodes=8, n_channels_out=20,\n",
    "                            n_res_blocks=3, n_blocks_per_layer=3,\n",
    "                            n_filters=128, kernel_size=3,\n",
    "                            strides=(2, 2, 2), dilation=2, \n",
    "                            small_strides = (2, 2))\n",
    "model = hvatnet.HVATNetv3(model_config)\n",
    "\n",
    "load_model(model, weights)\n",
    "\n",
    "model = model.to(device).to(dtype)"
   ]
  },
  {
   "cell_type": "markdown",
   "metadata": {},
   "source": [
    "### Save `submission.cvs` file\n",
    "\n",
    "This code shows how the data was prepare and downsampled during inference. Make sure that your data is processed similarly!"
   ]
  },
  {
   "cell_type": "code",
   "execution_count": 8,
   "metadata": {},
   "outputs": [
    {
     "name": "stdout",
     "output_type": "stream",
     "text": [
      "Found 72 samples in C:\\Users\\nodos\\Desktop\\ДИПЛОМ\\Аня диплом\\dataset_v2_blocks\\dataset_v2_blocks\\amputant\\left\\fedya_tropin_standart_elbow_left\\preproc_angles\\submit\n"
     ]
    }
   ],
   "source": [
    "DATA_PATH = Path(r\"C:\\Users\\nodos\\Desktop\\ДИПЛОМ\\Аня диплом\\dataset_v2_blocks\\dataset_v2_blocks\")\n",
    "test_data_name = 'fedya_tropin_standart_elbow_left'  # shoould match `test_dataset_list` used to train the model\n",
    "\n",
    "\n",
    "data_folder = DATA_PATH / \"amputant\" / \"left\" / test_data_name / \"preproc_angles\" / \"submit\"\n",
    "all_paths = natsorted(data_folder.glob('*.npz'))\n",
    "print(f'Found {len(all_paths)} samples in {data_folder}')\n"
   ]
  },
  {
   "cell_type": "code",
   "execution_count": 9,
   "metadata": {},
   "outputs": [
    {
     "name": "stdout",
     "output_type": "stream",
     "text": [
      "Completed 1/72. Loaded data: (3721, 8) - padded to: (3840, 8) - predictions (480, 20) - downsampled to: (466, 20)\n",
      "Completed 2/72. Loaded data: (3725, 8) - padded to: (3840, 8) - predictions (480, 20) - downsampled to: (466, 20)\n",
      "Completed 3/72. Loaded data: (3724, 8) - padded to: (3840, 8) - predictions (480, 20) - downsampled to: (466, 20)\n",
      "Completed 4/72. Loaded data: (3724, 8) - padded to: (3840, 8) - predictions (480, 20) - downsampled to: (466, 20)\n",
      "Completed 5/72. Loaded data: (3729, 8) - padded to: (3840, 8) - predictions (480, 20) - downsampled to: (467, 20)\n",
      "Completed 6/72. Loaded data: (3726, 8) - padded to: (3840, 8) - predictions (480, 20) - downsampled to: (466, 20)\n",
      "Completed 7/72. Loaded data: (3724, 8) - padded to: (3840, 8) - predictions (480, 20) - downsampled to: (466, 20)\n",
      "Completed 8/72. Loaded data: (3728, 8) - padded to: (3840, 8) - predictions (480, 20) - downsampled to: (466, 20)\n",
      "Completed 9/72. Loaded data: (3724, 8) - padded to: (3840, 8) - predictions (480, 20) - downsampled to: (466, 20)\n",
      "Completed 10/72. Loaded data: (3728, 8) - padded to: (3840, 8) - predictions (480, 20) - downsampled to: (466, 20)\n",
      "Completed 11/72. Loaded data: (3727, 8) - padded to: (3840, 8) - predictions (480, 20) - downsampled to: (466, 20)\n",
      "Completed 12/72. Loaded data: (3728, 8) - padded to: (3840, 8) - predictions (480, 20) - downsampled to: (466, 20)\n",
      "Completed 13/72. Loaded data: (3724, 8) - padded to: (3840, 8) - predictions (480, 20) - downsampled to: (466, 20)\n",
      "Completed 14/72. Loaded data: (3727, 8) - padded to: (3840, 8) - predictions (480, 20) - downsampled to: (466, 20)\n",
      "Completed 15/72. Loaded data: (3725, 8) - padded to: (3840, 8) - predictions (480, 20) - downsampled to: (466, 20)\n",
      "Completed 16/72. Loaded data: (3724, 8) - padded to: (3840, 8) - predictions (480, 20) - downsampled to: (466, 20)\n",
      "Completed 17/72. Loaded data: (3724, 8) - padded to: (3840, 8) - predictions (480, 20) - downsampled to: (466, 20)\n",
      "Completed 18/72. Loaded data: (3726, 8) - padded to: (3840, 8) - predictions (480, 20) - downsampled to: (466, 20)\n",
      "Completed 19/72. Loaded data: (3725, 8) - padded to: (3840, 8) - predictions (480, 20) - downsampled to: (466, 20)\n",
      "Completed 20/72. Loaded data: (3726, 8) - padded to: (3840, 8) - predictions (480, 20) - downsampled to: (466, 20)\n",
      "Completed 21/72. Loaded data: (3722, 8) - padded to: (3840, 8) - predictions (480, 20) - downsampled to: (466, 20)\n",
      "Completed 22/72. Loaded data: (3727, 8) - padded to: (3840, 8) - predictions (480, 20) - downsampled to: (466, 20)\n",
      "Completed 23/72. Loaded data: (3724, 8) - padded to: (3840, 8) - predictions (480, 20) - downsampled to: (466, 20)\n",
      "Completed 24/72. Loaded data: (3724, 8) - padded to: (3840, 8) - predictions (480, 20) - downsampled to: (466, 20)\n",
      "Completed 25/72. Loaded data: (3723, 8) - padded to: (3840, 8) - predictions (480, 20) - downsampled to: (466, 20)\n",
      "Completed 26/72. Loaded data: (3724, 8) - padded to: (3840, 8) - predictions (480, 20) - downsampled to: (466, 20)\n",
      "Completed 27/72. Loaded data: (3724, 8) - padded to: (3840, 8) - predictions (480, 20) - downsampled to: (466, 20)\n",
      "Completed 28/72. Loaded data: (3727, 8) - padded to: (3840, 8) - predictions (480, 20) - downsampled to: (466, 20)\n",
      "Completed 29/72. Loaded data: (3724, 8) - padded to: (3840, 8) - predictions (480, 20) - downsampled to: (466, 20)\n",
      "Completed 30/72. Loaded data: (3724, 8) - padded to: (3840, 8) - predictions (480, 20) - downsampled to: (466, 20)\n",
      "Completed 31/72. Loaded data: (3730, 8) - padded to: (3840, 8) - predictions (480, 20) - downsampled to: (467, 20)\n",
      "Completed 32/72. Loaded data: (3726, 8) - padded to: (3840, 8) - predictions (480, 20) - downsampled to: (466, 20)\n",
      "Completed 33/72. Loaded data: (3727, 8) - padded to: (3840, 8) - predictions (480, 20) - downsampled to: (466, 20)\n",
      "Completed 34/72. Loaded data: (3726, 8) - padded to: (3840, 8) - predictions (480, 20) - downsampled to: (466, 20)\n",
      "Completed 35/72. Loaded data: (3725, 8) - padded to: (3840, 8) - predictions (480, 20) - downsampled to: (466, 20)\n",
      "Completed 36/72. Loaded data: (3728, 8) - padded to: (3840, 8) - predictions (480, 20) - downsampled to: (466, 20)\n",
      "Completed 37/72. Loaded data: (3724, 8) - padded to: (3840, 8) - predictions (480, 20) - downsampled to: (466, 20)\n",
      "Completed 38/72. Loaded data: (3725, 8) - padded to: (3840, 8) - predictions (480, 20) - downsampled to: (466, 20)\n",
      "Completed 39/72. Loaded data: (3723, 8) - padded to: (3840, 8) - predictions (480, 20) - downsampled to: (466, 20)\n",
      "Completed 40/72. Loaded data: (3724, 8) - padded to: (3840, 8) - predictions (480, 20) - downsampled to: (466, 20)\n",
      "Completed 41/72. Loaded data: (3724, 8) - padded to: (3840, 8) - predictions (480, 20) - downsampled to: (466, 20)\n",
      "Completed 42/72. Loaded data: (3724, 8) - padded to: (3840, 8) - predictions (480, 20) - downsampled to: (466, 20)\n",
      "Completed 43/72. Loaded data: (3720, 8) - padded to: (3840, 8) - predictions (480, 20) - downsampled to: (465, 20)\n",
      "Completed 44/72. Loaded data: (3726, 8) - padded to: (3840, 8) - predictions (480, 20) - downsampled to: (466, 20)\n",
      "Completed 45/72. Loaded data: (3723, 8) - padded to: (3840, 8) - predictions (480, 20) - downsampled to: (466, 20)\n",
      "Completed 46/72. Loaded data: (1730, 8) - padded to: (1792, 8) - predictions (224, 20) - downsampled to: (217, 20)\n",
      "Completed 47/72. Loaded data: (1730, 8) - padded to: (1792, 8) - predictions (224, 20) - downsampled to: (217, 20)\n",
      "Completed 48/72. Loaded data: (1732, 8) - padded to: (1792, 8) - predictions (224, 20) - downsampled to: (217, 20)\n",
      "Completed 49/72. Loaded data: (1731, 8) - padded to: (1792, 8) - predictions (224, 20) - downsampled to: (217, 20)\n",
      "Completed 50/72. Loaded data: (1735, 8) - padded to: (1792, 8) - predictions (224, 20) - downsampled to: (217, 20)\n",
      "Completed 51/72. Loaded data: (1730, 8) - padded to: (1792, 8) - predictions (224, 20) - downsampled to: (217, 20)\n",
      "Completed 52/72. Loaded data: (1729, 8) - padded to: (1792, 8) - predictions (224, 20) - downsampled to: (217, 20)\n",
      "Completed 53/72. Loaded data: (1730, 8) - padded to: (1792, 8) - predictions (224, 20) - downsampled to: (217, 20)\n",
      "Completed 54/72. Loaded data: (1730, 8) - padded to: (1792, 8) - predictions (224, 20) - downsampled to: (217, 20)\n",
      "Completed 55/72. Loaded data: (1729, 8) - padded to: (1792, 8) - predictions (224, 20) - downsampled to: (217, 20)\n",
      "Completed 56/72. Loaded data: (1734, 8) - padded to: (1792, 8) - predictions (224, 20) - downsampled to: (217, 20)\n",
      "Completed 57/72. Loaded data: (1733, 8) - padded to: (1792, 8) - predictions (224, 20) - downsampled to: (217, 20)\n",
      "Completed 58/72. Loaded data: (1729, 8) - padded to: (1792, 8) - predictions (224, 20) - downsampled to: (217, 20)\n",
      "Completed 59/72. Loaded data: (1731, 8) - padded to: (1792, 8) - predictions (224, 20) - downsampled to: (217, 20)\n",
      "Completed 60/72. Loaded data: (1731, 8) - padded to: (1792, 8) - predictions (224, 20) - downsampled to: (217, 20)\n",
      "Completed 61/72. Loaded data: (1732, 8) - padded to: (1792, 8) - predictions (224, 20) - downsampled to: (217, 20)\n",
      "Completed 62/72. Loaded data: (1736, 8) - padded to: (1792, 8) - predictions (224, 20) - downsampled to: (217, 20)\n",
      "Completed 63/72. Loaded data: (1731, 8) - padded to: (1792, 8) - predictions (224, 20) - downsampled to: (217, 20)\n",
      "Completed 64/72. Loaded data: (1732, 8) - padded to: (1792, 8) - predictions (224, 20) - downsampled to: (217, 20)\n",
      "Completed 65/72. Loaded data: (1733, 8) - padded to: (1792, 8) - predictions (224, 20) - downsampled to: (217, 20)\n",
      "Completed 66/72. Loaded data: (1734, 8) - padded to: (1792, 8) - predictions (224, 20) - downsampled to: (217, 20)\n",
      "Completed 67/72. Loaded data: (1729, 8) - padded to: (1792, 8) - predictions (224, 20) - downsampled to: (217, 20)\n",
      "Completed 68/72. Loaded data: (1727, 8) - padded to: (1792, 8) - predictions (224, 20) - downsampled to: (216, 20)\n",
      "Completed 69/72. Loaded data: (1736, 8) - padded to: (1792, 8) - predictions (224, 20) - downsampled to: (217, 20)\n",
      "Completed 70/72. Loaded data: (1729, 8) - padded to: (1792, 8) - predictions (224, 20) - downsampled to: (217, 20)\n",
      "Completed 71/72. Loaded data: (1735, 8) - padded to: (1792, 8) - predictions (224, 20) - downsampled to: (217, 20)\n",
      "Completed 72/72. Loaded data: (1735, 8) - padded to: (1792, 8) - predictions (224, 20) - downsampled to: (217, 20)\n"
     ]
    },
    {
     "data": {
      "text/html": [
       "<div>\n",
       "<style scoped>\n",
       "    .dataframe tbody tr th:only-of-type {\n",
       "        vertical-align: middle;\n",
       "    }\n",
       "\n",
       "    .dataframe tbody tr th {\n",
       "        vertical-align: top;\n",
       "    }\n",
       "\n",
       "    .dataframe thead th {\n",
       "        text-align: right;\n",
       "    }\n",
       "</style>\n",
       "<table border=\"1\" class=\"dataframe\">\n",
       "  <thead>\n",
       "    <tr style=\"text-align: right;\">\n",
       "      <th></th>\n",
       "      <th>0</th>\n",
       "      <th>1</th>\n",
       "      <th>2</th>\n",
       "      <th>3</th>\n",
       "      <th>4</th>\n",
       "      <th>5</th>\n",
       "      <th>6</th>\n",
       "      <th>7</th>\n",
       "      <th>8</th>\n",
       "      <th>9</th>\n",
       "      <th>10</th>\n",
       "      <th>11</th>\n",
       "      <th>12</th>\n",
       "      <th>13</th>\n",
       "      <th>14</th>\n",
       "      <th>15</th>\n",
       "      <th>16</th>\n",
       "      <th>17</th>\n",
       "      <th>18</th>\n",
       "      <th>19</th>\n",
       "    </tr>\n",
       "  </thead>\n",
       "  <tbody>\n",
       "    <tr>\n",
       "      <th>0</th>\n",
       "      <td>0.231928</td>\n",
       "      <td>-0.022436</td>\n",
       "      <td>0.402423</td>\n",
       "      <td>0.094868</td>\n",
       "      <td>0.185136</td>\n",
       "      <td>-0.002209</td>\n",
       "      <td>0.410683</td>\n",
       "      <td>0.066798</td>\n",
       "      <td>0.287478</td>\n",
       "      <td>0.010185</td>\n",
       "      <td>0.513789</td>\n",
       "      <td>0.266438</td>\n",
       "      <td>0.322758</td>\n",
       "      <td>0.033135</td>\n",
       "      <td>0.352393</td>\n",
       "      <td>0.147607</td>\n",
       "      <td>0.192227</td>\n",
       "      <td>-0.099880</td>\n",
       "      <td>0.368584</td>\n",
       "      <td>-0.140891</td>\n",
       "    </tr>\n",
       "    <tr>\n",
       "      <th>1</th>\n",
       "      <td>0.225159</td>\n",
       "      <td>-0.036239</td>\n",
       "      <td>0.409873</td>\n",
       "      <td>0.116660</td>\n",
       "      <td>0.159820</td>\n",
       "      <td>-0.006980</td>\n",
       "      <td>0.443965</td>\n",
       "      <td>0.084534</td>\n",
       "      <td>0.269090</td>\n",
       "      <td>0.012501</td>\n",
       "      <td>0.504997</td>\n",
       "      <td>0.278756</td>\n",
       "      <td>0.325774</td>\n",
       "      <td>0.038633</td>\n",
       "      <td>0.382400</td>\n",
       "      <td>0.142040</td>\n",
       "      <td>0.221210</td>\n",
       "      <td>-0.143651</td>\n",
       "      <td>0.350335</td>\n",
       "      <td>-0.186840</td>\n",
       "    </tr>\n",
       "    <tr>\n",
       "      <th>2</th>\n",
       "      <td>0.216243</td>\n",
       "      <td>-0.040475</td>\n",
       "      <td>0.439907</td>\n",
       "      <td>0.105691</td>\n",
       "      <td>0.201591</td>\n",
       "      <td>-0.015153</td>\n",
       "      <td>0.419505</td>\n",
       "      <td>0.060707</td>\n",
       "      <td>0.312658</td>\n",
       "      <td>0.010190</td>\n",
       "      <td>0.461729</td>\n",
       "      <td>0.270425</td>\n",
       "      <td>0.310332</td>\n",
       "      <td>0.031502</td>\n",
       "      <td>0.402367</td>\n",
       "      <td>0.123275</td>\n",
       "      <td>0.258520</td>\n",
       "      <td>-0.140580</td>\n",
       "      <td>0.351522</td>\n",
       "      <td>-0.196887</td>\n",
       "    </tr>\n",
       "    <tr>\n",
       "      <th>3</th>\n",
       "      <td>0.239311</td>\n",
       "      <td>-0.038427</td>\n",
       "      <td>0.400374</td>\n",
       "      <td>0.098108</td>\n",
       "      <td>0.238387</td>\n",
       "      <td>-0.015190</td>\n",
       "      <td>0.398897</td>\n",
       "      <td>0.052878</td>\n",
       "      <td>0.357158</td>\n",
       "      <td>0.017875</td>\n",
       "      <td>0.429283</td>\n",
       "      <td>0.237202</td>\n",
       "      <td>0.354328</td>\n",
       "      <td>0.031589</td>\n",
       "      <td>0.339900</td>\n",
       "      <td>0.093321</td>\n",
       "      <td>0.261657</td>\n",
       "      <td>-0.141778</td>\n",
       "      <td>0.336352</td>\n",
       "      <td>-0.179729</td>\n",
       "    </tr>\n",
       "    <tr>\n",
       "      <th>4</th>\n",
       "      <td>0.218434</td>\n",
       "      <td>-0.047509</td>\n",
       "      <td>0.408794</td>\n",
       "      <td>0.106814</td>\n",
       "      <td>0.266940</td>\n",
       "      <td>-0.010177</td>\n",
       "      <td>0.382000</td>\n",
       "      <td>0.056777</td>\n",
       "      <td>0.364784</td>\n",
       "      <td>0.019934</td>\n",
       "      <td>0.408916</td>\n",
       "      <td>0.230388</td>\n",
       "      <td>0.378745</td>\n",
       "      <td>0.028404</td>\n",
       "      <td>0.329847</td>\n",
       "      <td>0.110300</td>\n",
       "      <td>0.238594</td>\n",
       "      <td>-0.157262</td>\n",
       "      <td>0.325411</td>\n",
       "      <td>-0.151341</td>\n",
       "    </tr>\n",
       "  </tbody>\n",
       "</table>\n",
       "</div>"
      ],
      "text/plain": [
       "         0         1         2         3         4         5         6   \\\n",
       "0  0.231928 -0.022436  0.402423  0.094868  0.185136 -0.002209  0.410683   \n",
       "1  0.225159 -0.036239  0.409873  0.116660  0.159820 -0.006980  0.443965   \n",
       "2  0.216243 -0.040475  0.439907  0.105691  0.201591 -0.015153  0.419505   \n",
       "3  0.239311 -0.038427  0.400374  0.098108  0.238387 -0.015190  0.398897   \n",
       "4  0.218434 -0.047509  0.408794  0.106814  0.266940 -0.010177  0.382000   \n",
       "\n",
       "         7         8         9         10        11        12        13  \\\n",
       "0  0.066798  0.287478  0.010185  0.513789  0.266438  0.322758  0.033135   \n",
       "1  0.084534  0.269090  0.012501  0.504997  0.278756  0.325774  0.038633   \n",
       "2  0.060707  0.312658  0.010190  0.461729  0.270425  0.310332  0.031502   \n",
       "3  0.052878  0.357158  0.017875  0.429283  0.237202  0.354328  0.031589   \n",
       "4  0.056777  0.364784  0.019934  0.408916  0.230388  0.378745  0.028404   \n",
       "\n",
       "         14        15        16        17        18        19  \n",
       "0  0.352393  0.147607  0.192227 -0.099880  0.368584 -0.140891  \n",
       "1  0.382400  0.142040  0.221210 -0.143651  0.350335 -0.186840  \n",
       "2  0.402367  0.123275  0.258520 -0.140580  0.351522 -0.196887  \n",
       "3  0.339900  0.093321  0.261657 -0.141778  0.336352 -0.179729  \n",
       "4  0.329847  0.110300  0.238594 -0.157262  0.325411 -0.151341  "
      ]
     },
     "execution_count": 9,
     "metadata": {},
     "output_type": "execute_result"
    }
   ],
   "source": [
    "\n",
    "pred_list = []\n",
    "\n",
    "# loop over each trial\n",
    "for i, p in enumerate(all_paths):\n",
    "    # get EMG data \n",
    "    sample = np.load(p)\n",
    "    myo = sample['data_myo']\n",
    "    myo = myo[:, LEFT_TO_RIGHT_HAND]\n",
    "\n",
    "    # predictions will have to be downsampled\n",
    "    gt_len = myo[::8].shape[0]\n",
    "\n",
    "    # padding\n",
    "    target_length = (myo.shape[0] + 255) // 256 * 256\n",
    "    padded_myo = np.pad(myo, ((0, target_length - myo.shape[0]), (0, 0)), mode='constant', constant_values=0)\n",
    "\n",
    "    # some prediction. might be slididng window.\n",
    "    preds = model.inference(padded_myo)\n",
    "    preds_downsampled = preds[:gt_len]\n",
    "    print(f\"Completed {i+1}/{len(all_paths)}. Loaded data: {myo.shape} - padded to: {padded_myo.shape} - predictions {preds.shape} - downsampled to: {preds_downsampled.shape}\")\n",
    "    pred_list.append(preds_downsampled)\n",
    "\n",
    "pred_cat = np.concatenate(pred_list, axis=0)\n",
    "df = pd.DataFrame(pred_cat)\n",
    "df.head()"
   ]
  },
  {
   "cell_type": "markdown",
   "metadata": {},
   "source": [
    "In addition to the predictions, your data should also include a sample id column."
   ]
  },
  {
   "cell_type": "code",
   "execution_count": 10,
   "metadata": {},
   "outputs": [],
   "source": [
    "df.insert(0, \"sample_id\", range(1, 1 + len(df)))"
   ]
  },
  {
   "cell_type": "markdown",
   "metadata": {},
   "source": [
    "Finally, save to a CSV file. This is what you'll upload to Kaggle for the competition."
   ]
  },
  {
   "cell_type": "code",
   "execution_count": 11,
   "metadata": {},
   "outputs": [],
   "source": [
    "df.to_csv('5_11_type_027_loss_4000_step.csv', index=False)"
   ]
  },
  {
   "cell_type": "code",
   "execution_count": 41,
   "metadata": {},
   "outputs": [
    {
     "data": {
      "text/plain": [
       "(26829, 21)"
      ]
     },
     "execution_count": 41,
     "metadata": {},
     "output_type": "execute_result"
    }
   ],
   "source": [
    "df.shape"
   ]
  },
  {
   "cell_type": "markdown",
   "metadata": {},
   "source": [
    "Сверка версий с лоссом 29 и лоссом 27"
   ]
  },
  {
   "cell_type": "code",
   "execution_count": null,
   "metadata": {},
   "outputs": [],
   "source": []
  },
  {
   "cell_type": "code",
   "execution_count": 50,
   "metadata": {},
   "outputs": [
    {
     "name": "stderr",
     "output_type": "stream",
     "text": [
      "100%|██████████| 26829/26829 [00:20<00:00, 1322.36it/s]\n"
     ]
    }
   ],
   "source": [
    "import pandas as pd\n",
    "from tqdm import tqdm\n",
    "from sklearn.metrics.pairwise import cosine_similarity\n",
    "\n",
    "loss275 = pd.read_csv('loss_0_275.csv')\n",
    "loss29 = pd.read_csv('submit_file.csv')\n",
    "\n",
    "# Удалите столбец sample_id для расчета косинусного сходства\n",
    "features275 = loss275.drop(columns=['sample_id'])\n",
    "features29 = loss29.drop(columns=['sample_id'])\n",
    "\n",
    "# Рассчитайте косинусное сходство для каждой строки\n",
    "cosine_similarities = []\n",
    "for i in tqdm(range(len(features275))):\n",
    "    vector275 = features275.iloc[i].values.reshape(1, -1)\n",
    "    vector29 = features29.iloc[i].values.reshape(1, -1)\n",
    "    similarity = cosine_similarity(vector275, vector29)[0][0]\n",
    "    cosine_similarities.append(similarity)\n",
    "\n",
    "# Создайте новый датафрейм с sample_id и косинусным сходством\n",
    "result_df = pd.DataFrame({\n",
    "    'sample_id': loss275['sample_id'],\n",
    "    'cosine_similarity': cosine_similarities\n",
    "})\n",
    "\n",
    "# Отсортируйте датафрейм по убыванию косинусного сходства\n",
    "sim_275_29 = result_df.sort_values(by='cosine_similarity', ascending=False)\n"
   ]
  },
  {
   "cell_type": "code",
   "execution_count": null,
   "metadata": {},
   "outputs": [
    {
     "data": {
      "image/png": "[encoded data removed]",
      "text/plain": [
       "<Figure size 640x480 with 1 Axes>"
      ]
     },
     "metadata": {},
     "output_type": "display_data"
    }
   ],
   "source": [
    "import matplotlib.pyplot as plt\n",
    "plt.hist(sim_275_29['cosine_similarity'], bins=20, edgecolor='black')\n",
    "plt.xlabel('Cosine Similarity')\n",
    "plt.ylabel('Frequency')\n",
    "plt.title('Cходство ДЛЯ loss275|loss29 ')\n",
    "plt.show()"
   ]
  },
  {
   "cell_type": "code",
   "execution_count": 51,
   "metadata": {},
   "outputs": [
    {
     "name": "stderr",
     "output_type": "stream",
     "text": [
      "100%|██████████| 26829/26829 [00:21<00:00, 1269.68it/s]\n"
     ]
    }
   ],
   "source": [
    "import pandas as pd\n",
    "from tqdm import tqdm\n",
    "from sklearn.metrics.pairwise import cosine_similarity\n",
    "\n",
    "loss27 = pd.read_csv('loss_0_27.csv')\n",
    "loss29 = pd.read_csv('submit_file.csv')\n",
    "\n",
    "# Удалите столбец sample_id для расчета косинусного сходства\n",
    "features27 = loss27.drop(columns=['sample_id'])\n",
    "features29 = loss29.drop(columns=['sample_id'])\n",
    "\n",
    "# Рассчитайте косинусное сходство для каждой строки\n",
    "cosine_similarities = []\n",
    "for i in tqdm(range(len(features275))):\n",
    "    vector275 = features27.iloc[i].values.reshape(1, -1)\n",
    "    vector29 = features29.iloc[i].values.reshape(1, -1)\n",
    "    similarity = cosine_similarity(vector275, vector29)[0][0]\n",
    "    cosine_similarities.append(similarity)\n",
    "\n",
    "# Создайте новый датафрейм с sample_id и косинусным сходством\n",
    "result_df = pd.DataFrame({\n",
    "    'sample_id': loss27['sample_id'],\n",
    "    'cosine_similarity': cosine_similarities\n",
    "})\n",
    "\n",
    "# Отсортируйте датафрейм по убыванию косинусного сходства\n",
    "sim_27_29 = result_df.sort_values(by='cosine_similarity', ascending=False)\n"
   ]
  },
  {
   "cell_type": "code",
   "execution_count": 52,
   "metadata": {},
   "outputs": [
    {
     "data": {
      "image/png": "[encoded data removed]",
      "text/plain": [
       "<Figure size 640x480 with 1 Axes>"
      ]
     },
     "metadata": {},
     "output_type": "display_data"
    }
   ],
   "source": [
    "import matplotlib.pyplot as plt\n",
    "plt.hist(sim_27_29['cosine_similarity'], bins=20, edgecolor='black')\n",
    "plt.xlabel('Cosine Similarity')\n",
    "plt.ylabel('Frequency')\n",
    "plt.title('Cходство ДЛЯ loss27|loss29 ')\n",
    "plt.show()"
   ]
  },
  {
   "cell_type": "code",
   "execution_count": 53,
   "metadata": {},
   "outputs": [
    {
     "data": {
      "text/html": [
       "<div>\n",
       "<style scoped>\n",
       "    .dataframe tbody tr th:only-of-type {\n",
       "        vertical-align: middle;\n",
       "    }\n",
       "\n",
       "    .dataframe tbody tr th {\n",
       "        vertical-align: top;\n",
       "    }\n",
       "\n",
       "    .dataframe thead th {\n",
       "        text-align: right;\n",
       "    }\n",
       "</style>\n",
       "<table border=\"1\" class=\"dataframe\">\n",
       "  <thead>\n",
       "    <tr style=\"text-align: right;\">\n",
       "      <th></th>\n",
       "      <th>sample_id</th>\n",
       "      <th>cosine_similarity</th>\n",
       "    </tr>\n",
       "  </thead>\n",
       "  <tbody>\n",
       "    <tr>\n",
       "      <th>4432</th>\n",
       "      <td>4433</td>\n",
       "      <td>0.999303</td>\n",
       "    </tr>\n",
       "    <tr>\n",
       "      <th>11781</th>\n",
       "      <td>11782</td>\n",
       "      <td>0.999134</td>\n",
       "    </tr>\n",
       "    <tr>\n",
       "      <th>16162</th>\n",
       "      <td>16163</td>\n",
       "      <td>0.999105</td>\n",
       "    </tr>\n",
       "    <tr>\n",
       "      <th>26308</th>\n",
       "      <td>26309</td>\n",
       "      <td>0.999088</td>\n",
       "    </tr>\n",
       "    <tr>\n",
       "      <th>26107</th>\n",
       "      <td>26108</td>\n",
       "      <td>0.999060</td>\n",
       "    </tr>\n",
       "    <tr>\n",
       "      <th>...</th>\n",
       "      <td>...</td>\n",
       "      <td>...</td>\n",
       "    </tr>\n",
       "    <tr>\n",
       "      <th>25139</th>\n",
       "      <td>25140</td>\n",
       "      <td>0.136979</td>\n",
       "    </tr>\n",
       "    <tr>\n",
       "      <th>25140</th>\n",
       "      <td>25141</td>\n",
       "      <td>0.129526</td>\n",
       "    </tr>\n",
       "    <tr>\n",
       "      <th>23102</th>\n",
       "      <td>23103</td>\n",
       "      <td>0.125345</td>\n",
       "    </tr>\n",
       "    <tr>\n",
       "      <th>21792</th>\n",
       "      <td>21793</td>\n",
       "      <td>0.124543</td>\n",
       "    </tr>\n",
       "    <tr>\n",
       "      <th>23103</th>\n",
       "      <td>23104</td>\n",
       "      <td>0.111737</td>\n",
       "    </tr>\n",
       "  </tbody>\n",
       "</table>\n",
       "<p>26829 rows × 2 columns</p>\n",
       "</div>"
      ],
      "text/plain": [
       "       sample_id  cosine_similarity\n",
       "4432        4433           0.999303\n",
       "11781      11782           0.999134\n",
       "16162      16163           0.999105\n",
       "26308      26309           0.999088\n",
       "26107      26108           0.999060\n",
       "...          ...                ...\n",
       "25139      25140           0.136979\n",
       "25140      25141           0.129526\n",
       "23102      23103           0.125345\n",
       "21792      21793           0.124543\n",
       "23103      23104           0.111737\n",
       "\n",
       "[26829 rows x 2 columns]"
      ]
     },
     "execution_count": 53,
     "metadata": {},
     "output_type": "execute_result"
    }
   ],
   "source": [
    "sim_27_29"
   ]
  },
  {
   "cell_type": "code",
   "execution_count": 54,
   "metadata": {},
   "outputs": [
    {
     "data": {
      "text/html": [
       "<div>\n",
       "<style scoped>\n",
       "    .dataframe tbody tr th:only-of-type {\n",
       "        vertical-align: middle;\n",
       "    }\n",
       "\n",
       "    .dataframe tbody tr th {\n",
       "        vertical-align: top;\n",
       "    }\n",
       "\n",
       "    .dataframe thead th {\n",
       "        text-align: right;\n",
       "    }\n",
       "</style>\n",
       "<table border=\"1\" class=\"dataframe\">\n",
       "  <thead>\n",
       "    <tr style=\"text-align: right;\">\n",
       "      <th></th>\n",
       "      <th>sample_id</th>\n",
       "      <th>cosine_similarity</th>\n",
       "    </tr>\n",
       "  </thead>\n",
       "  <tbody>\n",
       "    <tr>\n",
       "      <th>21085</th>\n",
       "      <td>21086</td>\n",
       "      <td>0.999424</td>\n",
       "    </tr>\n",
       "    <tr>\n",
       "      <th>24823</th>\n",
       "      <td>24824</td>\n",
       "      <td>0.999375</td>\n",
       "    </tr>\n",
       "    <tr>\n",
       "      <th>3988</th>\n",
       "      <td>3989</td>\n",
       "      <td>0.999326</td>\n",
       "    </tr>\n",
       "    <tr>\n",
       "      <th>21084</th>\n",
       "      <td>21085</td>\n",
       "      <td>0.999231</td>\n",
       "    </tr>\n",
       "    <tr>\n",
       "      <th>9557</th>\n",
       "      <td>9558</td>\n",
       "      <td>0.999229</td>\n",
       "    </tr>\n",
       "    <tr>\n",
       "      <th>...</th>\n",
       "      <td>...</td>\n",
       "      <td>...</td>\n",
       "    </tr>\n",
       "    <tr>\n",
       "      <th>21791</th>\n",
       "      <td>21792</td>\n",
       "      <td>0.253726</td>\n",
       "    </tr>\n",
       "    <tr>\n",
       "      <th>3863</th>\n",
       "      <td>3864</td>\n",
       "      <td>0.252957</td>\n",
       "    </tr>\n",
       "    <tr>\n",
       "      <th>21793</th>\n",
       "      <td>21794</td>\n",
       "      <td>0.229209</td>\n",
       "    </tr>\n",
       "    <tr>\n",
       "      <th>21789</th>\n",
       "      <td>21790</td>\n",
       "      <td>0.227016</td>\n",
       "    </tr>\n",
       "    <tr>\n",
       "      <th>21790</th>\n",
       "      <td>21791</td>\n",
       "      <td>0.221670</td>\n",
       "    </tr>\n",
       "  </tbody>\n",
       "</table>\n",
       "<p>26829 rows × 2 columns</p>\n",
       "</div>"
      ],
      "text/plain": [
       "       sample_id  cosine_similarity\n",
       "21085      21086           0.999424\n",
       "24823      24824           0.999375\n",
       "3988        3989           0.999326\n",
       "21084      21085           0.999231\n",
       "9557        9558           0.999229\n",
       "...          ...                ...\n",
       "21791      21792           0.253726\n",
       "3863        3864           0.252957\n",
       "21793      21794           0.229209\n",
       "21789      21790           0.227016\n",
       "21790      21791           0.221670\n",
       "\n",
       "[26829 rows x 2 columns]"
      ]
     },
     "execution_count": 54,
     "metadata": {},
     "output_type": "execute_result"
    }
   ],
   "source": [
    "sim_275_29"
   ]
  },
  {
   "cell_type": "code",
   "execution_count": 61,
   "metadata": {},
   "outputs": [
    {
     "data": {
      "text/plain": [
       "0.25"
      ]
     },
     "execution_count": 61,
     "metadata": {},
     "output_type": "execute_result"
    }
   ],
   "source": [
    "set1 = {1, 2, 3, 4, 5}\n",
    "set2 = {4, 5, 6, 7, 8}\n",
    "iou(set1, set2)"
   ]
  },
  {
   "cell_type": "code",
   "execution_count": 60,
   "metadata": {},
   "outputs": [
    {
     "name": "stderr",
     "output_type": "stream",
     "text": [
      "100%|██████████| 9/9 [00:00<00:00, 899.92it/s]\n"
     ]
    },
    {
     "data": {
      "text/html": [
       "<div>\n",
       "<style scoped>\n",
       "    .dataframe tbody tr th:only-of-type {\n",
       "        vertical-align: middle;\n",
       "    }\n",
       "\n",
       "    .dataframe tbody tr th {\n",
       "        vertical-align: top;\n",
       "    }\n",
       "\n",
       "    .dataframe thead th {\n",
       "        text-align: right;\n",
       "    }\n",
       "</style>\n",
       "<table border=\"1\" class=\"dataframe\">\n",
       "  <thead>\n",
       "    <tr style=\"text-align: right;\">\n",
       "      <th></th>\n",
       "      <th>threshold</th>\n",
       "      <th>similarity</th>\n",
       "    </tr>\n",
       "  </thead>\n",
       "  <tbody>\n",
       "    <tr>\n",
       "      <th>0</th>\n",
       "      <td>1.00</td>\n",
       "      <td>1.000000</td>\n",
       "    </tr>\n",
       "    <tr>\n",
       "      <th>1</th>\n",
       "      <td>0.90</td>\n",
       "      <td>0.331598</td>\n",
       "    </tr>\n",
       "    <tr>\n",
       "      <th>2</th>\n",
       "      <td>0.80</td>\n",
       "      <td>0.213380</td>\n",
       "    </tr>\n",
       "    <tr>\n",
       "      <th>3</th>\n",
       "      <td>0.70</td>\n",
       "      <td>0.170886</td>\n",
       "    </tr>\n",
       "    <tr>\n",
       "      <th>4</th>\n",
       "      <td>0.60</td>\n",
       "      <td>0.124256</td>\n",
       "    </tr>\n",
       "    <tr>\n",
       "      <th>5</th>\n",
       "      <td>0.50</td>\n",
       "      <td>0.085747</td>\n",
       "    </tr>\n",
       "    <tr>\n",
       "      <th>6</th>\n",
       "      <td>0.40</td>\n",
       "      <td>0.049251</td>\n",
       "    </tr>\n",
       "    <tr>\n",
       "      <th>7</th>\n",
       "      <td>0.30</td>\n",
       "      <td>0.071429</td>\n",
       "    </tr>\n",
       "    <tr>\n",
       "      <th>8</th>\n",
       "      <td>0.25</td>\n",
       "      <td>0.034091</td>\n",
       "    </tr>\n",
       "  </tbody>\n",
       "</table>\n",
       "</div>"
      ],
      "text/plain": [
       "   threshold  similarity\n",
       "0       1.00    1.000000\n",
       "1       0.90    0.331598\n",
       "2       0.80    0.213380\n",
       "3       0.70    0.170886\n",
       "4       0.60    0.124256\n",
       "5       0.50    0.085747\n",
       "6       0.40    0.049251\n",
       "7       0.30    0.071429\n",
       "8       0.25    0.034091"
      ]
     },
     "execution_count": 60,
     "metadata": {},
     "output_type": "execute_result"
    }
   ],
   "source": [
    "import pandas as pd\n",
    "from sklearn.metrics import jaccard_score\n",
    "\n",
    "# Определите пороги косинусного сходства\n",
    "thresholds = [1, 0.9, 0.8, 0.7, 0.6, 0.5, 0.4, 0.3, 0.25]\n",
    "\n",
    "# Создайте списки sample_id для каждого порога\n",
    "sim_27_29_sets = {threshold: set(sim_27_29[sim_27_29['cosine_similarity'] <= threshold]['sample_id'].tolist()) for threshold in thresholds}\n",
    "sim_275_29_sets = {threshold: set(sim_275_29[sim_275_29['cosine_similarity'] <= threshold]['sample_id'].tolist()) for threshold in thresholds}\n",
    "\n",
    "def iou(set1, set2):\n",
    "    intersection = len(set1.intersection(set2))\n",
    "    union = len(set1.union(set2))\n",
    "    return intersection / union if union != 0 else 0\n",
    "\n",
    "# Рассчитайте сходство между списками sample_id для каждого порога\n",
    "similarities = []\n",
    "for threshold in tqdm(thresholds):\n",
    "    set1 = sim_27_29_sets[threshold]\n",
    "    set2 = sim_275_29_sets[threshold]\n",
    "    similarity = iou(set1, set2)\n",
    "    similarities.append(similarity)\n",
    "\n",
    "# Создайте таблицу с результатами\n",
    "result_df = pd.DataFrame({\n",
    "    'threshold': thresholds,\n",
    "    'similarity': similarities\n",
    "})\n",
    "\n",
    "\n",
    "result_df\n"
   ]
  }
 ],
 "metadata": {
  "kernelspec": {
   "display_name": ".venv",
   "language": "python",
   "name": "python3"
  },
  "language_info": {
   "codemirror_mode": {
    "name": "ipython",
    "version": 3
   },
   "file_extension": ".py",
   "mimetype": "text/x-python",
   "name": "python",
   "nbconvert_exporter": "python",
   "pygments_lexer": "ipython3",
   "version": "3.9.13"
  }
 },
 "nbformat": 4,
 "nbformat_minor": 2
}
